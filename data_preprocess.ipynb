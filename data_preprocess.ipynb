{
 "cells": [
  {
   "cell_type": "markdown",
   "metadata": {},
   "source": [
    "# 数据观察和预处理\n",
    "原始数据放在 `BUPT-ML-FinalProject\\data\\release` 中，其中 `train.csv` 为训练集，`test.csv` 为测试集，`sample.csv` 为提交样例"
   ]
  },
  {
   "cell_type": "markdown",
   "metadata": {},
   "source": [
    "## 一、数据观察\n",
    "1. 直观上看，数据量很小，`train.csv` 和 `test.csv` 分别只有 981 和 979 条样本\n",
    "2. 训练集的格式为 `sentiment,text`；测试集的格式为 `id,text`\n",
    "3. 官方没有给 `val.csv`，这意味着我们需要按比例随机划分出验证集\n",
    "4. 训练集中情感 1-5 的比例并不均衡，直观上大致符合中性情感最多，极端情感较少的规律，需要进一步根据统计情况分析\n",
    "5. 数据中包含一些需要清洗掉的部分，比如\n",
    "    - url 链接\n",
    "    - `@` 引导的用户名\n",
    "    - `\"\"` 双引号\n",
    "    - `Ì¢‰âÂ‰ã¢` 等乱码\n",
    "    - `&amp;` 在 HTML 中表示 `&`，考虑暂时替换成单词 `and`（或许可能还有其它 HTML 编码）\n",
    "    - `#xxx` 表示话题，包含有信息，不能直接删除，只能删掉符号\n",
    "6. 为了提高模型的正确率，我们在网上搜索到了 `self-driving car sentiment` 数据集，并存放在 `data\\release\\origin.csv` 中"
   ]
  },
  {
   "cell_type": "markdown",
   "metadata": {},
   "source": [
    "## 二、基本数据清洗"
   ]
  },
  {
   "cell_type": "code",
   "execution_count": 1,
   "metadata": {},
   "outputs": [],
   "source": [
    "import pandas as pd\n",
    "import re\n",
    "from bs4 import BeautifulSoup\n",
    "from sklearn.model_selection import train_test_split\n",
    "import numpy as np"
   ]
  },
  {
   "cell_type": "code",
   "execution_count": 2,
   "metadata": {},
   "outputs": [],
   "source": [
    "# 从 csv 文件中读取数据\n",
    "cols_train = ['sentiment','text']\n",
    "cols_test = ['id','text']\n",
    "df_train_small = pd.read_csv('./data/release/train.csv', header=0)\n",
    "df_test_small = pd.read_csv('./data/release/test.csv', header=0)\n",
    "df_origin = pd.read_csv('./data/release/origin.csv', header=0)\n",
    "df_origin = df_origin[['sentiment', 'text']]"
   ]
  },
  {
   "cell_type": "code",
   "execution_count": 3,
   "metadata": {},
   "outputs": [],
   "source": [
    "\"\"\"\n",
    "针对每一行的 text 字段，应用 data_cleaning 函数进行数据清洗\n",
    "\"\"\"\n",
    "def data_cleaning(text):\n",
    "    text = re.sub(r'https?://[A-Za-z0-9./]+', '', str(text))  # url\n",
    "    text = text.replace('Ì¢‰âÂ‰ã¢', ' ') # 一种特殊的乱码，基本出现在 we re、it s 这种的中间，替换为空格\n",
    "    text = re.sub(r'[^a-z_A-Z0-9-\\.!@#\\$%\\\\\\^&\\*\\)\\(\\+=\\{\\}\\[\\]\\/\\\"\\,\\'<>~\\·`\\?:;|\\s]', '', text)  # 非字母、数字、符号的其他乱码\n",
    "    text = re.sub(r'[MR]T ?@[a-z]+', '', text) # RT @username、MT @username是 twitter 网站一种特殊标记\n",
    "    text = re.sub(r'@[A-Za-z0-9_]+', '', text)  # @username\n",
    "    text = re.sub(r'[0-9]+:[0-9]+ [AP]M', '', text) # 时间戳\n",
    "    text = re.sub(r'\\d+', ' ', text) # 去除数字\n",
    "    text = re.sub(r'R[Ee]:', '', text) # 表示回复消息的 RE\n",
    "    text = text.replace(',', '').replace(r'\"', '').replace('#', '').replace('&', 'and')  # , and \"\" and # and &\n",
    "    text = BeautifulSoup(text, 'lxml').get_text()  # html编码\n",
    "    text = re.sub(r'[_\\-@%#\\$\\^\\*\\)\\(\\+=\\{\\}\\[\\]\\/\\\"<>~`:;|]', ' ', text)  # 剩下的一些无用符号\n",
    "    text = text.lower() # 转小写\n",
    "    text = re.sub(r'^ +', '', text) # 开头的空格去除\n",
    "    text = re.sub(r' +$', '', text) # 结尾的空格去除\n",
    "    text = re.sub(r' +', ' ', text) # 多个空格替换成一个\n",
    "    \n",
    "    return text"
   ]
  },
  {
   "cell_type": "code",
   "execution_count": 4,
   "metadata": {},
   "outputs": [
    {
     "name": "stdout",
     "output_type": "stream",
     "text": [
      "<class 'pandas.core.frame.DataFrame'>\n",
      "RangeIndex: 981 entries, 0 to 980\n",
      "Data columns (total 2 columns):\n",
      " #   Column     Non-Null Count  Dtype \n",
      "---  ------     --------------  ----- \n",
      " 0   sentiment  981 non-null    int64 \n",
      " 1   text       981 non-null    object\n",
      "dtypes: int64(1), object(1)\n",
      "memory usage: 15.5+ KB\n"
     ]
    }
   ],
   "source": [
    "# 对小数据集应用数据清洗函数\n",
    "df_train_small['text'] = df_train_small['text'].map(data_cleaning)\n",
    "df_test_small['text'] = df_test_small['text'].map(data_cleaning)\n",
    "df_train_small.info()"
   ]
  },
  {
   "cell_type": "code",
   "execution_count": 5,
   "metadata": {},
   "outputs": [
    {
     "name": "stdout",
     "output_type": "stream",
     "text": [
      "<class 'pandas.core.frame.DataFrame'>\n",
      "Int64Index: 6943 entries, 0 to 7145\n",
      "Data columns (total 2 columns):\n",
      " #   Column     Non-Null Count  Dtype \n",
      "---  ------     --------------  ----- \n",
      " 0   sentiment  6943 non-null   int32 \n",
      " 1   text       6943 non-null   object\n",
      "dtypes: int32(1), object(1)\n",
      "memory usage: 135.6+ KB\n"
     ]
    }
   ],
   "source": [
    "# 对大数据集应用数据清洗函数，并做一些特殊处理\n",
    "df_origin = df_origin[df_origin['sentiment']!='not_relevant'] # 删除 not_relevant 行\n",
    "df_origin['sentiment'] = df_origin['sentiment'].astype(np.int32) # 将 sentiment 列类型改为 int32，方便后续 split 操作\n",
    "df_origin['text'] = df_origin['text'].map(data_cleaning)\n",
    "df_origin.info()"
   ]
  },
  {
   "cell_type": "markdown",
   "metadata": {},
   "source": [
    "## 三、可视化与进一步处理"
   ]
  },
  {
   "cell_type": "code",
   "execution_count": 6,
   "metadata": {},
   "outputs": [],
   "source": [
    "import matplotlib.pyplot as plt\n",
    "import seaborn as sns\n",
    "from scipy import stats"
   ]
  },
  {
   "cell_type": "markdown",
   "metadata": {},
   "source": [
    "### 3.1 观察各情感分类数据量"
   ]
  },
  {
   "cell_type": "markdown",
   "metadata": {},
   "source": [
    "#### 3.1.1 小数据集 `data/preprocessed/small` 分类统计\n",
    "如下图所示，原始数据集在 sentiment=3 处的数据量最大，在 sentiment=1、5 处的数据都很少，而 sentiment=2、4 处的数据量适中。\n",
    "整体数据集呈略向右偏的正态分布，因此可以考虑增加第 1、5 类数据，使其与第 2、4 类数据量平衡。"
   ]
  },
  {
   "cell_type": "code",
   "execution_count": 7,
   "metadata": {},
   "outputs": [
    {
     "data": {
      "image/png": "[encoded data removed]",
      "text/plain": [
       "<Figure size 432x288 with 1 Axes>"
      ]
     },
     "metadata": {
      "needs_background": "light"
     },
     "output_type": "display_data"
    }
   ],
   "source": [
    "x = [1,2,3,4,5]\n",
    "y = []\n",
    "for i in range(1,6):\n",
    "    y.append(df_train_small[df_train_small['sentiment']==i]['sentiment'].count())\n",
    "\n",
    "plt.bar(x, y)\n",
    "plt.xlabel('sentiment')\n",
    "plt.ylabel('count')\n",
    "for a,b,i in zip(x, y, range(len(x))):\n",
    "    plt.text(a, b + 0.01, y[i], ha='center', fontsize=10)\n",
    "plt.show()"
   ]
  },
  {
   "cell_type": "markdown",
   "metadata": {},
   "source": [
    "#### 3.1.2 大数据集 `data/preprocessed/big` 分类统计\n",
    "大数据集的特征及整体分布与小数据集类似。"
   ]
  },
  {
   "cell_type": "code",
   "execution_count": 8,
   "metadata": {},
   "outputs": [
    {
     "data": {
      "image/png": "[encoded data removed]",
      "text/plain": [
       "<Figure size 432x288 with 1 Axes>"
      ]
     },
     "metadata": {
      "needs_background": "light"
     },
     "output_type": "display_data"
    }
   ],
   "source": [
    "y2 = []\n",
    "for i in range(1,6):\n",
    "    y2.append(df_origin[df_origin['sentiment']==i]['sentiment'].count())\n",
    "\n",
    "plt.bar(x, y2)\n",
    "plt.xlabel('sentiment')\n",
    "plt.ylabel('count')\n",
    "for a,b,i in zip(x, y2, range(len(x))):\n",
    "    plt.text(a, b + 0.01, y2[i], ha='center', fontsize=10)\n",
    "plt.show()"
   ]
  },
  {
   "cell_type": "markdown",
   "metadata": {},
   "source": [
    "### 3.2 分布直方图查看 sentiment 分布和 text 长度分布"
   ]
  },
  {
   "cell_type": "code",
   "execution_count": 9,
   "metadata": {},
   "outputs": [
    {
     "name": "stderr",
     "output_type": "stream",
     "text": [
      "d:\\programs\\Anaconda3\\lib\\site-packages\\seaborn\\distributions.py:2557: FutureWarning: `distplot` is a deprecated function and will be removed in a future version. Please adapt your code to use either `displot` (a figure-level function with similar flexibility) or `histplot` (an axes-level function for histograms).\n",
      "  warnings.warn(msg, FutureWarning)\n",
      "d:\\programs\\Anaconda3\\lib\\site-packages\\seaborn\\distributions.py:2557: FutureWarning: `distplot` is a deprecated function and will be removed in a future version. Please adapt your code to use either `displot` (a figure-level function with similar flexibility) or `histplot` (an axes-level function for histograms).\n",
      "  warnings.warn(msg, FutureWarning)\n"
     ]
    },
    {
     "data": {
      "image/png": "[encoded data removed]",
      "text/plain": [
       "<Figure size 1008x432 with 4 Axes>"
      ]
     },
     "metadata": {
      "needs_background": "light"
     },
     "output_type": "display_data"
    }
   ],
   "source": [
    "df_tmp = df_train_small.copy(deep=True)\n",
    "df_tmp['len'] = df_tmp['text'].map(lambda x: len(x))\n",
    "sentiments = df_tmp[['sentiment']]\n",
    "\n",
    "plt.figure(figsize=(14,6))\n",
    "\n",
    "plt.subplot(2, 4, 1)\n",
    "sns.distplot(df_tmp['sentiment'], fit=stats.norm)\n",
    "\n",
    "plt.subplot(2, 4, 2)\n",
    "stats.probplot(df_tmp['sentiment'], plot=plt)\n",
    "\n",
    "plt.subplot(2, 4, 3)\n",
    "sns.distplot(df_tmp['len'], fit=stats.norm)\n",
    "\n",
    "plt.subplot(2, 4, 4)\n",
    "stats.probplot(df_tmp['len'], plot=plt)\n",
    "\n",
    "plt.show()"
   ]
  },
  {
   "cell_type": "markdown",
   "metadata": {},
   "source": [
    "## 四、数据集划分"
   ]
  },
  {
   "cell_type": "code",
   "execution_count": 10,
   "metadata": {},
   "outputs": [],
   "source": [
    "\"\"\"\n",
    "将小数据集按照 8:2 的比例划分为训练集和验证集\n",
    "\"\"\"\n",
    "def split_small(val_ratio=0.2, split_seed=4567):\n",
    "    df_test_small.to_csv('./data/preprocessed/small/test.csv', index=False)\n",
    "    \n",
    "    dir_train = './data/preprocessed/small/train.csv'\n",
    "    dir_val = './data/preprocessed/small/dev.csv'\n",
    "\n",
    "    headers = pd.DataFrame(columns=cols_train)\n",
    "    headers.to_csv(dir_train, index=False)\n",
    "    headers.to_csv(dir_val, index=False)\n",
    "    \n",
    "    for i in range(1, 6):\n",
    "        df_train_split, df_val_split = train_test_split(df_train_small[df_train_small['sentiment']==i], test_size=val_ratio, random_state=split_seed)\n",
    "        df_train_split.to_csv(dir_train, index=False, mode='a', header=None)\n",
    "        df_val_split.to_csv(dir_val, index=False, mode='a', header=None)"
   ]
  },
  {
   "cell_type": "code",
   "execution_count": 11,
   "metadata": {},
   "outputs": [],
   "source": [
    "\"\"\"\n",
    "将大数据集按照 8:1:1 的比例划分为训练集、验证集、测试集\n",
    "\"\"\"\n",
    "def split_big_with_test(first_ratio=0.2, second_ratio=0.5, split_seed=1234):\n",
    "    dir_train = './data/preprocessed/big/train.csv'\n",
    "    dir_val = './data/preprocessed/big/dev.csv'\n",
    "    dir_test = './data/preprocessed/big/test.csv'\n",
    "\n",
    "    headers = pd.DataFrame(columns=cols_train)\n",
    "    headers.to_csv(dir_train, index=False)\n",
    "    headers.to_csv(dir_val, index=False)\n",
    "    headers.to_csv(dir_test, index=False)\n",
    "\n",
    "    for i in range(1, 6):\n",
    "        df_train_split, df_other_split = train_test_split(df_origin[df_origin['sentiment']==i], test_size=first_ratio, random_state=split_seed)\n",
    "        df_train_split.to_csv(dir_train, index=False, mode='a', header=None)\n",
    "        \n",
    "        df_val_split, df_test_split = train_test_split(df_other_split[df_other_split['sentiment']==i], test_size=second_ratio, random_state=split_seed)\n",
    "        df_val_split.to_csv(dir_val, index=False, mode='a', header=None)\n",
    "        df_test_split.to_csv(dir_test, index=False, mode='a', header=None)"
   ]
  },
  {
   "cell_type": "code",
   "execution_count": 12,
   "metadata": {},
   "outputs": [],
   "source": [
    "\"\"\"\n",
    "将大数据集按照 8:2 的比例划分为训练集和验证集\n",
    "\"\"\"\n",
    "def split_big_no_test(sample_num=6800, val_ratio=0.1, split_seed=1234):\n",
    "    dir_train = './data/preprocessed/big/train.csv'\n",
    "    dir_val = './data/preprocessed/big/dev.csv'\n",
    "\n",
    "    headers = pd.DataFrame(columns=cols_train)\n",
    "    headers.to_csv(dir_train, index=False)\n",
    "    headers.to_csv(dir_val, index=False)\n",
    "\n",
    "    df_sample = df_origin.copy(deep=True)\n",
    "\n",
    "    for i in range(1, 6):\n",
    "        df_train_split, df_val_split = train_test_split(df_sample[df_sample['sentiment']==i], test_size=val_ratio, random_state=split_seed)\n",
    "        df_train_split.to_csv(dir_train, index=False, mode='a', header=None)\n",
    "        df_val_split.to_csv(dir_val, index=False, mode='a', header=None)\n",
    "    "
   ]
  },
  {
   "cell_type": "code",
   "execution_count": null,
   "metadata": {},
   "outputs": [],
   "source": [
    "split_small()\n",
    "# split_big_with_test()\n",
    "split_big_no_test()"
   ]
  }
 ],
 "metadata": {
  "kernelspec": {
   "display_name": "Python 3.7.0 ('pytorch')",
   "language": "python",
   "name": "python3"
  },
  "language_info": {
   "codemirror_mode": {
    "name": "ipython",
    "version": 3
   },
   "file_extension": ".py",
   "mimetype": "text/x-python",
   "name": "python",
   "nbconvert_exporter": "python",
   "pygments_lexer": "ipython3",
   "version": "3.7.0"
  },
  "orig_nbformat": 4,
  "vscode": {
   "interpreter": {
    "hash": "e80f2c8833cedb7126ef3cddc2d95ca2b11987ff57ef56b65aa4ced506198002"
   }
  }
 },
 "nbformat": 4,
 "nbformat_minor": 2
}
