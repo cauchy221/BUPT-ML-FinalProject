{
 "cells": [
  {
   "cell_type": "code",
   "execution_count": null,
   "metadata": {},
   "outputs": [],
   "source": [
    "# all the import\n",
    "import pandas as pd\n",
    "from transformers import BertTokenizer, BertModel, AdamW, get_linear_schedule_with_warmup\n",
    "from torch.utils.data import Dataset, DataLoader\n",
    "import torch\n",
    "import torch.nn as nn\n",
    "import numpy as np\n",
    "from collections import defaultdict"
   ]
  },
  {
   "cell_type": "code",
   "execution_count": null,
   "metadata": {},
   "outputs": [],
   "source": [
    "# all the constant\n",
    "train_dir = \"data/preprocessed/big/train.csv\"\n",
    "eval_dir = \"data/preprocessed/big/dev.csv\"\n",
    "\n",
    "model_path = 'bert-base-uncased'\n",
    "batch_size = 8\n",
    "num_classes = 5\n",
    "epoch = 10\n",
    "learning_rate = 1e-5\n",
    "\n",
    "random_seed = 42\n",
    "np.random.seed(random_seed)\n",
    "torch.manual_seed(random_seed)\n",
    "\n",
    "device = torch.device(\"cuda:0\" if torch.cuda.is_available() else \"cpu\")"
   ]
  },
  {
   "cell_type": "code",
   "execution_count": null,
   "metadata": {},
   "outputs": [],
   "source": [
    "df_train = pd.read_csv(train_dir)\n",
    "df_train['sentiment'] = df_train['sentiment'].map(lambda x: x-1)"
   ]
  },
  {
   "cell_type": "code",
   "execution_count": null,
   "metadata": {},
   "outputs": [],
   "source": [
    "df_eval = pd.read_csv(eval_dir)\n",
    "df_eval['sentiment'] = df_eval['sentiment'].map(lambda x: x-1)"
   ]
  },
  {
   "cell_type": "code",
   "execution_count": null,
   "metadata": {},
   "outputs": [],
   "source": [
    "tokenizer = BertTokenizer.from_pretrained(model_path)"
   ]
  },
  {
   "cell_type": "code",
   "execution_count": null,
   "metadata": {},
   "outputs": [],
   "source": [
    "max_length = 64"
   ]
  },
  {
   "cell_type": "code",
   "execution_count": null,
   "metadata": {},
   "outputs": [],
   "source": [
    "class TwitterDataset(Dataset):\n",
    "    def __init__(self, texts, sentiments, tokenizer, max_len):\n",
    "        self.texts = texts\n",
    "        self.sentiments = sentiments\n",
    "        self.tokenizer = tokenizer\n",
    "        self.max_len = max_len\n",
    "    \n",
    "    def __len__(self):\n",
    "        return len(self.texts)\n",
    "    \n",
    "    def __getitem__(self, item):\n",
    "        text = str(self.texts[item])\n",
    "        sentiment = int(self.sentiments[item])\n",
    "        encoding = self.tokenizer.encode_plus(\n",
    "            text, \n",
    "            add_special_tokens=True, \n",
    "            max_length=self.max_len, \n",
    "            return_token_type_ids=False, \n",
    "            pad_to_max_length=True, \n",
    "            return_attention_mask=True, \n",
    "            return_tensors='pt',\n",
    "        )\n",
    "        return {\n",
    "            'text': text, \n",
    "            'input_ids': encoding['input_ids'].flatten(),\n",
    "            'attention_mask': encoding['attention_mask'].flatten(),\n",
    "            'sentiment': torch.tensor(sentiment, dtype=torch.long)\n",
    "        }"
   ]
  },
  {
   "cell_type": "code",
   "execution_count": null,
   "metadata": {},
   "outputs": [],
   "source": [
    "def create_data_loader(df, tokenizer, max_len, batch_size):\n",
    "    ds = TwitterDataset(\n",
    "        texts=df.text.to_numpy(),\n",
    "        sentiments=df.sentiment.to_numpy(),\n",
    "        tokenizer=tokenizer,\n",
    "        max_len=max_len,\n",
    "    )\n",
    "\n",
    "    return DataLoader(\n",
    "        ds, \n",
    "        batch_size=batch_size,\n",
    "        num_workers=0,\n",
    "        shuffle=True,\n",
    "    )"
   ]
  },
  {
   "cell_type": "code",
   "execution_count": null,
   "metadata": {},
   "outputs": [],
   "source": [
    "train_data_loader = create_data_loader(df_train, tokenizer, max_length, batch_size)\n",
    "eval_data_loader = create_data_loader(df_eval, tokenizer, max_length, batch_size)"
   ]
  },
  {
   "cell_type": "code",
   "execution_count": null,
   "metadata": {},
   "outputs": [],
   "source": [
    "class SentimentClassifier(nn.Module):\n",
    "    def __init__(self, n_classes):\n",
    "        super(SentimentClassifier, self).__init__()\n",
    "        self.bert = BertModel.from_pretrained(model_path)\n",
    "        self.drop = nn.Dropout(p=0.3)\n",
    "        self.out = nn.Linear(self.bert.config.hidden_size, n_classes)\n",
    "\n",
    "    def forward(self, input_ids, attention_mask):\n",
    "        _, pooled_output = self.bert(\n",
    "            input_ids=input_ids,\n",
    "            attention_mask=attention_mask,\n",
    "            return_dict=False,\n",
    "        )\n",
    "        output = self.drop(pooled_output)\n",
    "        return self.out(output)"
   ]
  },
  {
   "cell_type": "code",
   "execution_count": null,
   "metadata": {},
   "outputs": [],
   "source": [
    "model = SentimentClassifier(num_classes)\n",
    "model = model.to(device)\n"
   ]
  },
  {
   "cell_type": "code",
   "execution_count": null,
   "metadata": {},
   "outputs": [],
   "source": [
    "optimizer = AdamW(model.parameters(), lr=learning_rate, correct_bias=False)\n",
    "total_steps = len(train_data_loader) * epoch\n",
    "\n",
    "scheduler = get_linear_schedule_with_warmup(\n",
    "    optimizer, \n",
    "    num_warmup_steps=0, \n",
    "    num_training_steps=total_steps,\n",
    ")\n",
    "\n",
    "loss_fn = nn.CrossEntropyLoss().to(device)"
   ]
  },
  {
   "cell_type": "code",
   "execution_count": null,
   "metadata": {},
   "outputs": [],
   "source": [
    "def train_epoch(\n",
    "    model, \n",
    "    data_loader,\n",
    "    loss_fn, \n",
    "    optimizer, \n",
    "    device, \n",
    "    scheduler, \n",
    "    n_examples\n",
    "):\n",
    "    model = model.train()\n",
    "\n",
    "    losses = []\n",
    "    correct_predictions = 0\n",
    "\n",
    "    for d in data_loader:\n",
    "        input_ids = d['input_ids'].to(device)\n",
    "        attention_mask = d['attention_mask'].to(device)\n",
    "        targets = d['sentiment'].to(device)\n",
    "\n",
    "        outputs = model(\n",
    "            input_ids=input_ids,\n",
    "            attention_mask=attention_mask\n",
    "        )\n",
    "\n",
    "        _, preds = torch.max(outputs, dim=1)\n",
    "        loss = loss_fn(outputs, targets)\n",
    "\n",
    "        correct_predictions += torch.sum(preds == targets)\n",
    "        losses.append(loss.item())\n",
    "\n",
    "        loss.backward()\n",
    "        nn.utils.clip_grad_norm_(model.parameters(), max_norm=1.0)\n",
    "        optimizer.step()\n",
    "        scheduler.step()\n",
    "        optimizer.zero_grad()\n",
    "\n",
    "    return correct_predictions.double() / n_examples, np.mean(losses)"
   ]
  },
  {
   "cell_type": "code",
   "execution_count": null,
   "metadata": {},
   "outputs": [],
   "source": [
    "def eval_epoch(\n",
    "    model, \n",
    "    data_loader,\n",
    "    loss_fn, \n",
    "    device, \n",
    "    n_examples\n",
    "):\n",
    "    model = model.eval()\n",
    "\n",
    "    losses = []\n",
    "    correct_predictions = 0\n",
    "\n",
    "    preds_list = []\n",
    "\n",
    "    with torch.no_grad():\n",
    "        for d in data_loader:\n",
    "            input_ids = d['input_ids'].to(device)\n",
    "            attention_mask = d['attention_mask'].to(device)\n",
    "            targets = d['sentiment'].to(device)\n",
    "\n",
    "            outputs = model(\n",
    "                input_ids=input_ids,\n",
    "                attention_mask=attention_mask\n",
    "            )\n",
    "\n",
    "            _, preds = torch.max(outputs, dim=1)\n",
    "            preds_list.append(preds)\n",
    "            loss = loss_fn(outputs, targets)\n",
    "\n",
    "            correct_predictions += torch.sum(preds == targets)\n",
    "            losses.append(loss.item())\n",
    "\n",
    "    print(preds_list)\n",
    "\n",
    "    return correct_predictions.double() / n_examples, np.mean(losses)"
   ]
  },
  {
   "cell_type": "code",
   "execution_count": null,
   "metadata": {},
   "outputs": [],
   "source": [
    "%%time\n",
    "\n",
    "for e in range(epoch):\n",
    "  print(f'Epoch {e + 1}/{epoch}')\n",
    "  print('-' * 10)\n",
    "\n",
    "  train_acc, train_loss = train_epoch(\n",
    "    model,\n",
    "    train_data_loader,    \n",
    "    loss_fn, \n",
    "    optimizer, \n",
    "    device, \n",
    "    scheduler, \n",
    "    len(df_train)\n",
    "  )\n",
    "  print(f'Train loss {train_loss} accuracy {train_acc}')\n",
    "\n",
    "  eval_acc, eval_loss = eval_epoch(\n",
    "    model,\n",
    "    eval_data_loader,\n",
    "    loss_fn, \n",
    "    device, \n",
    "    len(df_eval)\n",
    "  )\n",
    "  print(f'Eval loss {eval_loss} accuracy {eval_acc}')\n",
    "  print()"
   ]
  },
  {
   "cell_type": "code",
   "execution_count": null,
   "metadata": {},
   "outputs": [],
   "source": [
    "# save\n",
    "torch.save(model.state_dict(), 'output/test/model_state.bin')"
   ]
  },
  {
   "cell_type": "code",
   "execution_count": null,
   "metadata": {},
   "outputs": [],
   "source": [
    "# load\n",
    "model.load_state_dict(torch.load('output/test/model_state.bin'))"
   ]
  },
  {
   "cell_type": "code",
   "execution_count": null,
   "metadata": {},
   "outputs": [],
   "source": [
    "# test\n",
    "test_dir = \"data/preprocessed/small/test.csv\""
   ]
  },
  {
   "cell_type": "code",
   "execution_count": null,
   "metadata": {},
   "outputs": [],
   "source": [
    "df_test = pd.read_csv(test_dir)\n",
    "df_test.head()"
   ]
  },
  {
   "cell_type": "code",
   "execution_count": null,
   "metadata": {},
   "outputs": [],
   "source": [
    "class TwitterDataset_test(Dataset):\n",
    "    def __init__(self, texts, tokenizer, max_len):\n",
    "        self.texts = texts\n",
    "        self.tokenizer = tokenizer\n",
    "        self.max_len = max_len\n",
    "    \n",
    "    def __len__(self):\n",
    "        return len(self.texts)\n",
    "    \n",
    "    def __getitem__(self, item):\n",
    "        text = str(self.texts[item])\n",
    "        encoding = self.tokenizer.encode_plus(\n",
    "            text, \n",
    "            add_special_tokens=True, \n",
    "            max_length=self.max_len, \n",
    "            return_token_type_ids=False, \n",
    "            pad_to_max_length=True, \n",
    "            return_attention_mask=True, \n",
    "            return_tensors='pt',\n",
    "        )\n",
    "        return {\n",
    "            'text': text, \n",
    "            'input_ids': encoding['input_ids'].flatten(),\n",
    "            'attention_mask': encoding['attention_mask'].flatten(),\n",
    "        }"
   ]
  },
  {
   "cell_type": "code",
   "execution_count": null,
   "metadata": {},
   "outputs": [],
   "source": [
    "def create_data_loader_test(df, tokenizer, max_len, batch_size):\n",
    "    ds = TwitterDataset_test(\n",
    "        texts=df.text.to_numpy(),\n",
    "        tokenizer=tokenizer,\n",
    "        max_len=max_len,\n",
    "    )\n",
    "\n",
    "    return DataLoader(\n",
    "        ds, \n",
    "        batch_size=batch_size,\n",
    "        num_workers=0,\n",
    "        shuffle=False,\n",
    "    )"
   ]
  },
  {
   "cell_type": "code",
   "execution_count": null,
   "metadata": {},
   "outputs": [],
   "source": [
    "test_data_loader = create_data_loader_test(df_test, tokenizer, max_length, batch_size)"
   ]
  },
  {
   "cell_type": "code",
   "execution_count": null,
   "metadata": {},
   "outputs": [],
   "source": [
    "def get_predictions(model, data_loader):\n",
    "    model = model.eval()\n",
    "  \n",
    "    predictions = []\n",
    "\n",
    "    with torch.no_grad():\n",
    "        for d in data_loader:\n",
    "            input_ids = d[\"input_ids\"].to(device)\n",
    "            attention_mask = d[\"attention_mask\"].to(device)\n",
    "\n",
    "            outputs = model(\n",
    "                input_ids=input_ids,\n",
    "                attention_mask=attention_mask\n",
    "            )\n",
    "            _, preds = torch.max(outputs, dim=1)\n",
    "            predictions.extend(preds)\n",
    "\n",
    "    predictions = torch.stack(predictions).cpu()\n",
    "    return predictions"
   ]
  },
  {
   "cell_type": "code",
   "execution_count": null,
   "metadata": {},
   "outputs": [],
   "source": [
    "test_preds = get_predictions(model, test_data_loader)\n",
    "test_preds"
   ]
  },
  {
   "cell_type": "code",
   "execution_count": null,
   "metadata": {},
   "outputs": [],
   "source": [
    "array = np.array(test_preds)\n",
    "df_preds = pd.DataFrame(array)\n",
    "\n",
    "import csv\n",
    "with open(\"output/test/submit.csv\", 'w', newline='') as f:\n",
    "    writer = csv.writer(f)\n",
    "    writer.writerow(['id','sentiment'])\n",
    "    index = 0\n",
    "    for d in df_preds[0]:\n",
    "        writer.writerow((index,d+1))\n",
    "        index += 1"
   ]
  },
  {
   "cell_type": "code",
   "execution_count": 26,
   "metadata": {},
   "outputs": [],
   "source": [
    "import csv\n",
    "import difflib\n",
    "# 根据计算出的submit.csv，在origin.csv中找到对应label并计算acc得分\n",
    "# 返回acc和正确label列表\n",
    "def cal_accuracy(sub_file, test_file, ori_file):\n",
    "    acc = 0\n",
    "    preds = []\n",
    "    labels = []\n",
    "    with open(ori_file, 'r', encoding='utf-8') as o:\n",
    "        reader_o = csv.reader(o)\n",
    "        f1 = open(sub_file, 'r')\n",
    "        fp_s = csv.reader(f1)\n",
    "        f2 = open(test_file, 'r')\n",
    "        fp_t = csv.reader(f2)\n",
    "        next(fp_s)  # 跳过标题\n",
    "        next(fp_t)\n",
    "        while True:\n",
    "            try:\n",
    "                print('\\n')\n",
    "                s = next(fp_s)\n",
    "                preds.append(s[1])  # 预测的类别\n",
    "                t = next(fp_t)\n",
    "                text = t[1]  # 评价原文\n",
    "                o.seek(0,0)\n",
    "                reader_o = csv.reader(o)\n",
    "                for line in reader_o:\n",
    "                    if difflib.SequenceMatcher(None,line[10],text).quick_ratio() > 0.9:\n",
    "                        print(line[10])\n",
    "                        print(difflib.SequenceMatcher(None,line[10],text).quick_ratio())\n",
    "                        labels.append(line[5])  # 真实标签\n",
    "                        break\n",
    "            except StopIteration:\n",
    "                break\n",
    "        o.close()\n",
    "        f1.close()\n",
    "        f2.close()\n",
    "        # 计算acc\n",
    "        for i in range(len(preds)):\n",
    "            if (preds[i] == labels[i]):\n",
    "                acc += 1\n",
    "        acc = acc / len(preds)\n",
    "        return acc, preds, labels\n",
    "                    "
   ]
  },
  {
   "cell_type": "code",
   "execution_count": 27,
   "metadata": {},
   "outputs": [
    {
     "name": "stdout",
     "output_type": "stream",
     "text": [
      "\n",
      "\n",
      "Two places I'd invest all my money if I could: 3D printing and Self-driving cars!!!\n",
      "1.0\n",
      "\n",
      "\n",
      "Awesome! Google driverless cars will help the blind travel more often; https://t.co/QWuXR0FrBpv\n",
      "1.0\n",
      "\n",
      "\n",
      "Autonomous vehicles could reduce traffic fatalities by 90%...I'm in!\n",
      "1.0\n",
      "\n",
      "\n",
      "Really good presentation from Jan Becker on Bosch's automated vehicle research. #AutoAuto check it out\n",
      "1.0\n",
      "\n",
      "\n",
      "Ford just revealed it's Automated Ford Fusion Hybrid Vehicle. Pretty amazing. #fordtrends @ Ford Test̢_ http://t.co/7axya8ogIW\n",
      "0.9727626459143969\n",
      "\n",
      "\n",
      "So yeah, just throwing this out there again. Would totally be down to beta test an autonomous car.\n",
      "1.0\n",
      "\n",
      "\n",
      "@TeslaMotors Musk reluctant to partner with Apple, Google, but an Android controlled, autonomous smart-car would be awesome!!\n",
      "1.0\n",
      "\n",
      "\n",
      "Finished SF&gt;LA drive. Now it̢s LA&gt;OC in rush hour for a meeting. I can̢t wait for an autonomous google car.\n",
      "0.9173553719008265\n",
      "\n",
      "\n",
      "The #Google autonomous car paid a visit to Nvidia HQ. Pretty cool technology, but as a person who̢_ http://t.co/rjQ5Td78fj\n",
      "0.9718875502008032\n",
      "\n",
      "\n",
      "Finally, a very realistic timeline for full autonomous car capability. Hats off, @MorganStanley #AutoForum http://t.co/ZwemgV5JF8\n",
      "1.0\n",
      "\n",
      "\n",
      "It'll be cool when cars are fully autonomous, cause I'm totally gonna sleep while my car drives.\n",
      "1.0\n",
      "\n",
      "\n",
      "Autonomous car driving could free up the $200 billion that's wasted in car insurance.\n",
      "1.0\n",
      "\n",
      "\n",
      "Awesome! #Google builds the first purpose-built autonomous vehicle #SelfDrivenCar http://t.co/jfU7h4xevG\n",
      "1.0\n",
      "\n",
      "\n",
      "I'm glad I have a semi-autonomous vehicle. This heavy rain was worse than driving in a blizzard! #weatherwednesday http://t.co/JiBihB12Mx\n",
      "1.0\n",
      "\n",
      "\n",
      "Chris Urmson (@googleresearch @CarnegieMellon) really boosted my hope for autonomous vehicle viability in the near future #RoboBusiness\n",
      "1.0\n",
      "\n",
      "\n",
      "@sherod @erikbryn drive a partially autonomous vehicle (radar cruise control) and you will be a believer. The tech is a life saver.\n",
      "1.0\n",
      "\n",
      "\n",
      "Jeff Owens, @DelphiAuto CTO: A fully autonomous vehicle is a moon shot for our industry. #MBS2014 http://t.co/BccKZiPnX8\n",
      "1.0\n",
      "\n",
      "\n",
      "Yes!!!!! MT \"@mims: Elon Musk says Tesla's fully-autonomous electric vehicle will be on the road in 5-6 years http://t.co/rAoQQP1fLV\"\n",
      "1.0\n",
      "\n",
      "\n",
      "Dear @GoogleVentures: please hurry with the driverless cars. 'Cuz the ones driven by humans are making me CRAZY!!!\n",
      "1.0\n",
      "\n",
      "\n",
      "I wish I had a driverless car right now @thetechblock #dd\n",
      "1.0\n",
      "\n",
      "\n"
     ]
    }
   ],
   "source": [
    "acc, preds, labels = cal_accuracy(\"data/release/tmp_sub.csv\",\"data/release/tmp_test.csv\",\"data/release/origin.csv\")"
   ]
  },
  {
   "cell_type": "code",
   "execution_count": 28,
   "metadata": {},
   "outputs": [
    {
     "name": "stdout",
     "output_type": "stream",
     "text": [
      "0.2\n",
      "['1', '2', '3', '4', '5', '5', '5', '2', '2', '3', '3', '3', '3', '3', '1', '4', '4', '4', '5', '1']\n",
      "['5', '5', '5', '5', '5', '5', '5', '5', '5', '5', '5', '5', '5', '5', '5', '5', '5', '5', '5', '5']\n"
     ]
    }
   ],
   "source": [
    "print(acc)\n",
    "print(preds)\n",
    "print(labels)"
   ]
  },
  {
   "cell_type": "code",
   "execution_count": null,
   "metadata": {},
   "outputs": [],
   "source": []
  }
 ],
 "metadata": {
  "interpreter": {
   "hash": "e80f2c8833cedb7126ef3cddc2d95ca2b11987ff57ef56b65aa4ced506198002"
  },
  "kernelspec": {
   "display_name": "Python 3.7.0 ('pytorch')",
   "language": "python",
   "name": "python3"
  },
  "language_info": {
   "codemirror_mode": {
    "name": "ipython",
    "version": 3
   },
   "file_extension": ".py",
   "mimetype": "text/x-python",
   "name": "python",
   "nbconvert_exporter": "python",
   "pygments_lexer": "ipython3",
   "version": "3.7.0"
  },
  "orig_nbformat": 4
 },
 "nbformat": 4,
 "nbformat_minor": 2
}
