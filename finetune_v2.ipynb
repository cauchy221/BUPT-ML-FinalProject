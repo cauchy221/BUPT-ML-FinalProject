{
 "cells": [
  {
   "cell_type": "code",
   "execution_count": 1,
   "metadata": {},
   "outputs": [],
   "source": [
    "# all the import\n",
    "import pandas as pd\n",
    "import matplotlib.pyplot as plt\n",
    "import seaborn as sns\n",
    "from transformers import BertTokenizer, BertModel, AdamW, get_linear_schedule_with_warmup\n",
    "from torch.utils.data import Dataset, DataLoader\n",
    "import torch\n",
    "import torch.nn as nn\n",
    "import numpy as np\n",
    "from collections import defaultdict\n",
    "\n",
    "%matplotlib inline"
   ]
  },
  {
   "cell_type": "code",
   "execution_count": 2,
   "metadata": {},
   "outputs": [
    {
     "data": {
      "text/plain": [
       "'cpu'"
      ]
     },
     "execution_count": 2,
     "metadata": {},
     "output_type": "execute_result"
    }
   ],
   "source": [
    "# all the constant\n",
    "train_dir = \"data/preprocessed/small/train.csv\"\n",
    "eval_dir = \"data/preprocessed/small/dev.csv\"\n",
    "test_dir = \"data/preprocessed/small/test.csv\"\n",
    "\n",
    "model_path = 'bert-base-uncased'\n",
    "batch_size = 8\n",
    "num_classes = 5\n",
    "epoch = 10\n",
    "learning_rate = 1e-5\n",
    "\n",
    "random_seed = 42\n",
    "np.random.seed(random_seed)\n",
    "torch.manual_seed(random_seed)\n",
    "\n",
    "# device = torch.device(\"cuda:0\" if torch.cuda.is_available() else \"cpu\")\n",
    "device = 'cpu'\n",
    "device"
   ]
  },
  {
   "cell_type": "code",
   "execution_count": 4,
   "metadata": {},
   "outputs": [],
   "source": [
    "df_train = pd.read_csv(train_dir)\n",
    "df_train['sentiment'] = df_train['sentiment'].map(lambda x: x-1)"
   ]
  },
  {
   "cell_type": "code",
   "execution_count": 5,
   "metadata": {},
   "outputs": [
    {
     "data": {
      "text/html": [
       "<div>\n",
       "<style scoped>\n",
       "    .dataframe tbody tr th:only-of-type {\n",
       "        vertical-align: middle;\n",
       "    }\n",
       "\n",
       "    .dataframe tbody tr th {\n",
       "        vertical-align: top;\n",
       "    }\n",
       "\n",
       "    .dataframe thead th {\n",
       "        text-align: right;\n",
       "    }\n",
       "</style>\n",
       "<table border=\"1\" class=\"dataframe\">\n",
       "  <thead>\n",
       "    <tr style=\"text-align: right;\">\n",
       "      <th></th>\n",
       "      <th>sentiment</th>\n",
       "      <th>text</th>\n",
       "    </tr>\n",
       "  </thead>\n",
       "  <tbody>\n",
       "    <tr>\n",
       "      <th>0</th>\n",
       "      <td>0</td>\n",
       "      <td>driver less cars could be potentially lethal n...</td>\n",
       "    </tr>\n",
       "    <tr>\n",
       "      <th>1</th>\n",
       "      <td>0</td>\n",
       "      <td>driverless cars. dumbest f..ing idea i have ev...</td>\n",
       "    </tr>\n",
       "    <tr>\n",
       "      <th>2</th>\n",
       "      <td>0</td>\n",
       "      <td>what is this i am hearing about driverless car...</td>\n",
       "    </tr>\n",
       "    <tr>\n",
       "      <th>3</th>\n",
       "      <td>0</td>\n",
       "      <td>no way would i put my trust in a driverless ca...</td>\n",
       "    </tr>\n",
       "    <tr>\n",
       "      <th>4</th>\n",
       "      <td>0</td>\n",
       "      <td>yes i just meant in the sense that people on i...</td>\n",
       "    </tr>\n",
       "  </tbody>\n",
       "</table>\n",
       "</div>"
      ],
      "text/plain": [
       "   sentiment                                               text\n",
       "0          0  driver less cars could be potentially lethal n...\n",
       "1          0  driverless cars. dumbest f..ing idea i have ev...\n",
       "2          0  what is this i am hearing about driverless car...\n",
       "3          0  no way would i put my trust in a driverless ca...\n",
       "4          0  yes i just meant in the sense that people on i..."
      ]
     },
     "execution_count": 5,
     "metadata": {},
     "output_type": "execute_result"
    }
   ],
   "source": [
    "df_eval = pd.read_csv(eval_dir)\n",
    "df_eval['sentiment'] = df_eval['sentiment'].map(lambda x: x-1)\n",
    "df_eval.head()"
   ]
  },
  {
   "cell_type": "code",
   "execution_count": 6,
   "metadata": {},
   "outputs": [],
   "source": [
    "tokenizer = BertTokenizer.from_pretrained(model_path)"
   ]
  },
  {
   "cell_type": "code",
   "execution_count": 7,
   "metadata": {},
   "outputs": [],
   "source": [
    "max_length = 64"
   ]
  },
  {
   "cell_type": "code",
   "execution_count": 8,
   "metadata": {},
   "outputs": [],
   "source": [
    "class TwitterDataset(Dataset):\n",
    "    def __init__(self, texts, sentiments, tokenizer, max_len):\n",
    "        self.texts = texts\n",
    "        self.sentiments = sentiments\n",
    "        self.tokenizer = tokenizer\n",
    "        self.max_len = max_len\n",
    "    \n",
    "    def __len__(self):\n",
    "        return len(self.texts)\n",
    "    \n",
    "    def __getitem__(self, item):\n",
    "        text = str(self.texts[item])\n",
    "        sentiment = int(self.sentiments[item])\n",
    "        encoding = self.tokenizer.encode_plus(\n",
    "            text, \n",
    "            add_special_tokens=True, \n",
    "            max_length=self.max_len, \n",
    "            return_token_type_ids=False, \n",
    "            pad_to_max_length=True, \n",
    "            return_attention_mask=True, \n",
    "            return_tensors='pt',\n",
    "        )\n",
    "        return {\n",
    "            'text': text, \n",
    "            'input_ids': encoding['input_ids'].flatten(),\n",
    "            'attention_mask': encoding['attention_mask'].flatten(),\n",
    "            'sentiment': torch.tensor(sentiment, dtype=torch.long)\n",
    "        }"
   ]
  },
  {
   "cell_type": "code",
   "execution_count": 9,
   "metadata": {},
   "outputs": [],
   "source": [
    "def create_data_loader(df, tokenizer, max_len, batch_size):\n",
    "    ds = TwitterDataset(\n",
    "        texts=df.text.to_numpy(),\n",
    "        sentiments=df.sentiment.to_numpy(),\n",
    "        tokenizer=tokenizer,\n",
    "        max_len=max_len,\n",
    "    )\n",
    "\n",
    "    return DataLoader(\n",
    "        ds, \n",
    "        batch_size=batch_size,\n",
    "        num_workers=0,\n",
    "        shuffle=True,\n",
    "    )"
   ]
  },
  {
   "cell_type": "code",
   "execution_count": 10,
   "metadata": {},
   "outputs": [],
   "source": [
    "train_data_loader = create_data_loader(df_train, tokenizer, max_length, batch_size)\n",
    "eval_data_loader = create_data_loader(df_eval, tokenizer, max_length, batch_size)"
   ]
  },
  {
   "cell_type": "code",
   "execution_count": 11,
   "metadata": {},
   "outputs": [],
   "source": [
    "class SentimentClassifier(nn.Module):\n",
    "    def __init__(self, n_classes):\n",
    "        super(SentimentClassifier, self).__init__()\n",
    "        self.bert = BertModel.from_pretrained(model_path)\n",
    "        self.drop = nn.Dropout(p=0.3)\n",
    "        self.out = nn.Linear(self.bert.config.hidden_size, n_classes)\n",
    "\n",
    "    def forward(self, input_ids, attention_mask):\n",
    "        _, pooled_output = self.bert(\n",
    "            input_ids=input_ids,\n",
    "            attention_mask=attention_mask,\n",
    "            return_dict=False,\n",
    "        )\n",
    "        output = self.drop(pooled_output)\n",
    "        return self.out(output)"
   ]
  },
  {
   "cell_type": "code",
   "execution_count": 12,
   "metadata": {},
   "outputs": [],
   "source": [
    "model = SentimentClassifier(num_classes)\n",
    "model = model.to(device)\n"
   ]
  },
  {
   "cell_type": "code",
   "execution_count": 13,
   "metadata": {},
   "outputs": [],
   "source": [
    "optimizer = AdamW(model.parameters(), lr=learning_rate, correct_bias=False)\n",
    "total_steps = len(train_data_loader) * epoch\n",
    "\n",
    "scheduler = get_linear_schedule_with_warmup(\n",
    "    optimizer, \n",
    "    num_warmup_steps=0, \n",
    "    num_training_steps=total_steps,\n",
    ")\n",
    "\n",
    "loss_fn = nn.CrossEntropyLoss().to(device)"
   ]
  },
  {
   "cell_type": "code",
   "execution_count": 14,
   "metadata": {},
   "outputs": [],
   "source": [
    "def train_epoch(\n",
    "    model, \n",
    "    data_loader,\n",
    "    loss_fn, \n",
    "    optimizer, \n",
    "    device, \n",
    "    scheduler, \n",
    "    n_examples\n",
    "):\n",
    "    model = model.train()\n",
    "\n",
    "    losses = []\n",
    "    correct_predictions = 0\n",
    "\n",
    "    for d in data_loader:\n",
    "        input_ids = d['input_ids'].to(device)\n",
    "        attention_mask = d['attention_mask'].to(device)\n",
    "        targets = d['sentiment'].to(device)\n",
    "\n",
    "        outputs = model(\n",
    "            input_ids=input_ids,\n",
    "            attention_mask=attention_mask\n",
    "        )\n",
    "\n",
    "        _, preds = torch.max(outputs, dim=1)\n",
    "        loss = loss_fn(outputs, targets)\n",
    "\n",
    "        correct_predictions += torch.sum(preds == targets)\n",
    "        losses.append(loss.item())\n",
    "\n",
    "        loss.backward()\n",
    "        nn.utils.clip_grad_norm_(model.parameters(), max_norm=1.0)\n",
    "        optimizer.step()\n",
    "        scheduler.step()\n",
    "        optimizer.zero_grad()\n",
    "\n",
    "    return correct_predictions.double() / n_examples, np.mean(losses)"
   ]
  },
  {
   "cell_type": "code",
   "execution_count": 15,
   "metadata": {},
   "outputs": [],
   "source": [
    "def eval_epoch(\n",
    "    model, \n",
    "    data_loader,\n",
    "    loss_fn, \n",
    "    device, \n",
    "    n_examples\n",
    "):\n",
    "    model = model.eval()\n",
    "\n",
    "    losses = []\n",
    "    correct_predictions = 0\n",
    "\n",
    "    preds_list = []\n",
    "\n",
    "    with torch.no_grad():\n",
    "        for d in data_loader:\n",
    "            input_ids = d['input_ids'].to(device)\n",
    "            attention_mask = d['attention_mask'].to(device)\n",
    "            targets = d['sentiment'].to(device)\n",
    "\n",
    "            outputs = model(\n",
    "                input_ids=input_ids,\n",
    "                attention_mask=attention_mask\n",
    "            )\n",
    "\n",
    "            _, preds = torch.max(outputs, dim=1)\n",
    "            preds_list.append(preds)\n",
    "            loss = loss_fn(outputs, targets)\n",
    "\n",
    "            correct_predictions += torch.sum(preds == targets)\n",
    "            losses.append(loss.item())\n",
    "\n",
    "    print(preds_list)\n",
    "\n",
    "    return correct_predictions.double() / n_examples, np.mean(losses)"
   ]
  },
  {
   "cell_type": "code",
   "execution_count": 16,
   "metadata": {},
   "outputs": [
    {
     "name": "stderr",
     "output_type": "stream",
     "text": [
      "Truncation was not explicitly activated but `max_length` is provided a specific value, please use `truncation=True` to explicitly truncate examples to max length. Defaulting to 'longest_first' truncation strategy. If you encode pairs of sequences (GLUE-style) with the tokenizer you can select this strategy more precisely by providing a specific strategy to `truncation`.\n"
     ]
    },
    {
     "name": "stdout",
     "output_type": "stream",
     "text": [
      "Epoch 1/10\n",
      "----------\n"
     ]
    },
    {
     "name": "stderr",
     "output_type": "stream",
     "text": [
      "c:\\Users\\86139\\Anaconda3\\envs\\pytorch\\lib\\site-packages\\transformers\\tokenization_utils_base.py:2074: FutureWarning: The `pad_to_max_length` argument is deprecated and will be removed in a future version, use `padding=True` or `padding='longest'` to pad to the longest sequence in the batch, or use `padding='max_length'` to pad to a max length. In this case, you can give a specific length with `max_length` (e.g. `max_length=45`) or leave max_length to None to pad to the maximal input size of the model (e.g. 512 for Bert).\n",
      "  FutureWarning,\n"
     ]
    },
    {
     "name": "stdout",
     "output_type": "stream",
     "text": [
      "Train loss 1.1197627259760488 accuracy 0.6053639846743295\n",
      "[tensor([2, 2, 3, 2, 2, 3, 2, 2]), tensor([2, 2, 2, 2, 2, 3, 2, 2]), tensor([2, 2, 2, 2, 2, 3, 2, 2]), tensor([2, 3, 3, 2, 2, 2, 2, 2]), tensor([2, 2, 2, 2, 3, 3, 2, 2]), tensor([2, 3, 2, 2, 2, 3, 2, 2]), tensor([2, 2, 2, 2, 2, 2, 2, 2]), tensor([2, 2, 2, 2, 2, 2, 2, 2]), tensor([2, 3, 3, 2, 2, 3, 2, 2]), tensor([2, 2, 2, 2, 2, 2, 2, 2]), tensor([2, 3, 2, 2, 2, 3, 2, 3]), tensor([2, 2, 3, 2, 3, 2, 2, 2]), tensor([2, 2, 2, 2, 2, 2, 2, 2]), tensor([2, 2, 2, 2, 2, 2, 2, 2]), tensor([2, 2, 3, 2, 2, 2, 2, 2]), tensor([2, 2, 2, 2, 2, 2, 2, 2]), tensor([2, 2, 2, 2, 2, 2, 2, 2]), tensor([3, 2, 2, 2, 2, 2, 2, 3]), tensor([2, 2, 2, 2, 2, 2, 2, 2]), tensor([2, 2, 2, 2, 2, 2, 2, 2]), tensor([2, 2, 2, 2, 2, 2, 2, 2]), tensor([2, 2, 2, 2, 2, 2, 2, 2]), tensor([3, 3, 2, 2, 2, 3, 2, 2]), tensor([2, 2, 2, 2, 2, 2, 2, 2]), tensor([3, 2, 2, 2, 3, 2])]\n",
      "Eval loss 1.0007480335235597 accuracy 0.6212121212121212\n",
      "\n",
      "Epoch 2/10\n",
      "----------\n",
      "Train loss 0.8096549114098355 accuracy 0.7126436781609196\n",
      "[tensor([2, 2, 2, 2, 3, 2, 3, 3]), tensor([2, 2, 2, 2, 3, 2, 2, 1]), tensor([3, 1, 1, 3, 2, 3, 3, 3]), tensor([2, 1, 3, 2, 2, 1, 2, 3]), tensor([2, 1, 1, 2, 2, 2, 3, 3]), tensor([3, 2, 2, 2, 2, 2, 2, 2]), tensor([2, 2, 2, 3, 3, 1, 1, 2]), tensor([2, 2, 2, 3, 2, 3, 2, 3]), tensor([3, 2, 2, 2, 2, 2, 2, 3]), tensor([3, 3, 3, 3, 2, 2, 2, 2]), tensor([2, 2, 2, 3, 3, 1, 2, 2]), tensor([3, 2, 2, 3, 3, 3, 2, 2]), tensor([3, 3, 2, 3, 3, 1, 3, 2]), tensor([2, 2, 3, 3, 2, 2, 2, 3]), tensor([3, 2, 1, 3, 2, 2, 3, 2]), tensor([1, 2, 2, 2, 2, 3, 2, 3]), tensor([2, 2, 2, 2, 2, 3, 1, 2]), tensor([2, 1, 3, 3, 2, 3, 2, 2]), tensor([3, 2, 2, 3, 2, 3, 2, 1]), tensor([2, 2, 3, 2, 3, 3, 2, 3]), tensor([2, 2, 3, 3, 2, 2, 2, 1]), tensor([2, 3, 2, 3, 3, 2, 3, 2]), tensor([2, 2, 3, 2, 2, 3, 3, 3]), tensor([3, 2, 1, 3, 2, 3, 2, 2]), tensor([3, 3, 3, 1, 3, 2])]\n",
      "Eval loss 1.0028160429000854 accuracy 0.5959595959595959\n",
      "\n",
      "Epoch 3/10\n",
      "----------\n",
      "Train loss 0.46142989961544467 accuracy 0.8454661558109834\n",
      "[tensor([2, 2, 2, 1, 2, 2, 3, 2]), tensor([2, 1, 1, 1, 2, 2, 2, 2]), tensor([2, 2, 3, 1, 2, 1, 3, 4]), tensor([1, 2, 2, 3, 2, 2, 1, 3]), tensor([1, 2, 2, 2, 2, 1, 3, 3]), tensor([1, 2, 2, 2, 2, 2, 2, 2]), tensor([3, 2, 2, 2, 2, 1, 2, 2]), tensor([2, 2, 4, 2, 2, 2, 2, 3]), tensor([3, 3, 2, 3, 2, 2, 2, 2]), tensor([2, 2, 2, 2, 2, 2, 2, 2]), tensor([3, 1, 3, 2, 2, 2, 3, 1]), tensor([3, 3, 1, 2, 2, 2, 2, 2]), tensor([3, 1, 1, 3, 2, 1, 2, 1]), tensor([3, 1, 3, 2, 2, 2, 1, 3]), tensor([2, 1, 2, 2, 2, 3, 2, 2]), tensor([1, 2, 2, 1, 1, 3, 3, 1]), tensor([1, 1, 2, 2, 3, 3, 2, 3]), tensor([1, 2, 1, 2, 1, 3, 2, 2]), tensor([2, 3, 3, 2, 3, 2, 3, 2]), tensor([2, 2, 3, 2, 3, 1, 2, 3]), tensor([1, 2, 2, 1, 2, 2, 2, 3]), tensor([1, 2, 2, 1, 1, 2, 1, 3]), tensor([2, 2, 2, 2, 2, 2, 1, 1]), tensor([3, 4, 3, 2, 2, 2, 1, 1]), tensor([1, 4, 1, 3, 3, 2])]\n",
      "Eval loss 1.183840411901474 accuracy 0.6212121212121212\n",
      "\n",
      "Epoch 4/10\n",
      "----------\n",
      "Train loss 0.30573795798082587 accuracy 0.9003831417624522\n",
      "[tensor([2, 3, 2, 2, 2, 2, 4, 2]), tensor([1, 2, 2, 2, 2, 3, 1, 3]), tensor([2, 1, 2, 2, 2, 3, 3, 3]), tensor([2, 1, 2, 1, 2, 3, 2, 3]), tensor([2, 3, 2, 3, 3, 2, 3, 2]), tensor([2, 3, 2, 2, 1, 2, 2, 2]), tensor([1, 2, 1, 2, 3, 2, 1, 2]), tensor([2, 2, 1, 3, 2, 2, 3, 2]), tensor([1, 2, 1, 2, 1, 2, 3, 1]), tensor([2, 2, 2, 2, 3, 2, 1, 1]), tensor([2, 3, 3, 2, 2, 2, 3, 3]), tensor([2, 2, 3, 2, 3, 2, 2, 2]), tensor([2, 3, 3, 1, 2, 2, 2, 3]), tensor([2, 2, 2, 2, 3, 2, 3, 2]), tensor([2, 2, 1, 2, 3, 2, 1, 2]), tensor([2, 2, 3, 2, 1, 1, 2, 2]), tensor([2, 2, 1, 3, 2, 1, 1, 2]), tensor([3, 1, 2, 1, 2, 1, 3, 2]), tensor([2, 2, 3, 2, 3, 2, 2, 2]), tensor([3, 1, 2, 1, 1, 2, 2, 2]), tensor([2, 2, 2, 2, 1, 2, 2, 3]), tensor([2, 2, 2, 3, 1, 2, 3, 2]), tensor([2, 2, 4, 2, 2, 2, 2, 1]), tensor([2, 3, 3, 1, 1, 2, 2, 2]), tensor([2, 2, 2, 2, 3, 1])]\n",
      "Eval loss 1.5126411020755768 accuracy 0.6212121212121212\n",
      "\n",
      "Epoch 5/10\n",
      "----------\n",
      "Train loss 0.2101876900284266 accuracy 0.9259259259259259\n",
      "[tensor([2, 2, 3, 2, 1, 2, 1, 1]), tensor([2, 2, 2, 2, 4, 4, 2, 3]), tensor([1, 2, 2, 3, 4, 2, 2, 2]), tensor([4, 2, 2, 2, 2, 2, 2, 2]), tensor([1, 2, 1, 2, 2, 2, 2, 1]), tensor([1, 2, 1, 1, 3, 2, 2, 2]), tensor([2, 2, 2, 2, 1, 3, 3, 2]), tensor([2, 4, 2, 1, 3, 4, 2, 2]), tensor([2, 2, 2, 1, 2, 2, 1, 2]), tensor([2, 2, 2, 3, 3, 1, 2, 1]), tensor([2, 4, 2, 1, 1, 3, 2, 4]), tensor([2, 2, 2, 2, 2, 3, 3, 2]), tensor([1, 4, 2, 2, 1, 1, 2, 4]), tensor([2, 2, 3, 2, 3, 4, 1, 2]), tensor([2, 2, 2, 1, 1, 3, 3, 2]), tensor([2, 3, 2, 2, 3, 1, 2, 2]), tensor([2, 2, 4, 2, 4, 2, 2, 3]), tensor([2, 3, 3, 2, 2, 2, 3, 2]), tensor([2, 2, 2, 1, 3, 1, 3, 2]), tensor([2, 2, 3, 2, 2, 3, 2, 2]), tensor([2, 2, 3, 1, 2, 2, 2, 3]), tensor([3, 2, 2, 3, 2, 2, 2, 2]), tensor([1, 2, 2, 2, 2, 3, 1, 2]), tensor([2, 2, 2, 2, 2, 3, 3, 4]), tensor([1, 2, 2, 2, 3, 1])]\n",
      "Eval loss 1.5994231009483337 accuracy 0.5959595959595959\n",
      "\n",
      "Epoch 6/10\n",
      "----------\n",
      "Train loss 0.13395987699825165 accuracy 0.9553001277139208\n",
      "[tensor([2, 2, 2, 2, 1, 3, 3, 2]), tensor([1, 1, 2, 2, 2, 3, 3, 3]), tensor([2, 1, 3, 1, 2, 3, 3, 3]), tensor([1, 2, 3, 2, 2, 1, 1, 2]), tensor([1, 3, 2, 2, 2, 2, 2, 3]), tensor([2, 2, 2, 3, 3, 2, 3, 1]), tensor([2, 2, 1, 3, 2, 2, 3, 2]), tensor([2, 2, 4, 2, 2, 2, 4, 3]), tensor([2, 3, 3, 3, 2, 3, 3, 3]), tensor([2, 2, 1, 2, 2, 3, 3, 2]), tensor([2, 2, 2, 2, 2, 2, 2, 2]), tensor([1, 1, 2, 2, 2, 3, 2, 1]), tensor([3, 3, 2, 2, 2, 2, 3, 2]), tensor([2, 3, 2, 2, 2, 1, 1, 1]), tensor([3, 2, 2, 2, 2, 3, 2, 2]), tensor([3, 2, 3, 1, 1, 2, 2, 3]), tensor([2, 2, 3, 1, 2, 4, 2, 1]), tensor([2, 2, 2, 2, 2, 2, 1, 2]), tensor([2, 3, 2, 2, 2, 1, 1, 2]), tensor([2, 3, 2, 2, 2, 1, 2, 2]), tensor([2, 2, 2, 2, 2, 2, 2, 2]), tensor([3, 1, 1, 1, 4, 2, 2, 2]), tensor([2, 2, 2, 1, 1, 2, 2, 3]), tensor([2, 4, 3, 1, 1, 2, 1, 2]), tensor([2, 2, 2, 3, 2, 3])]\n",
      "Eval loss 1.7476855066418648 accuracy 0.601010101010101\n",
      "\n",
      "Epoch 7/10\n",
      "----------\n",
      "Train loss 0.09378837197733929 accuracy 0.9744572158365262\n",
      "[tensor([1, 2, 4, 2, 2, 1, 2, 2]), tensor([3, 2, 2, 2, 2, 1, 2, 2]), tensor([1, 1, 4, 2, 1, 2, 4, 2]), tensor([2, 1, 2, 2, 2, 1, 3, 2]), tensor([2, 3, 3, 2, 2, 2, 2, 1]), tensor([2, 4, 2, 2, 2, 2, 2, 1]), tensor([2, 2, 2, 2, 2, 2, 2, 2]), tensor([2, 2, 2, 1, 2, 4, 2, 2]), tensor([2, 4, 3, 0, 2, 2, 2, 2]), tensor([4, 1, 2, 3, 4, 2, 3, 2]), tensor([3, 4, 3, 3, 2, 2, 3, 3]), tensor([2, 1, 1, 1, 2, 2, 2, 2]), tensor([2, 2, 2, 2, 2, 1, 3, 4]), tensor([3, 2, 1, 2, 2, 2, 2, 2]), tensor([2, 3, 2, 2, 2, 2, 1, 1]), tensor([2, 2, 2, 4, 2, 2, 2, 1]), tensor([3, 3, 1, 3, 2, 1, 2, 1]), tensor([2, 3, 2, 2, 2, 2, 2, 2]), tensor([3, 3, 3, 3, 2, 2, 4, 1]), tensor([3, 1, 2, 2, 2, 2, 2, 3]), tensor([1, 4, 2, 3, 2, 1, 4, 3]), tensor([3, 2, 2, 4, 1, 2, 2, 2]), tensor([2, 2, 3, 3, 2, 3, 1, 1]), tensor([3, 3, 2, 2, 1, 1, 2, 2]), tensor([3, 2, 1, 3, 1, 3])]\n",
      "Eval loss 1.951460884809494 accuracy 0.5858585858585859\n",
      "\n",
      "Epoch 8/10\n",
      "----------\n",
      "Train loss 0.06278584767560645 accuracy 0.9757343550446999\n",
      "[tensor([2, 2, 2, 4, 2, 1, 2, 2]), tensor([2, 4, 1, 3, 2, 2, 2, 2]), tensor([3, 1, 3, 2, 2, 1, 3, 2]), tensor([3, 2, 3, 3, 3, 2, 1, 2]), tensor([3, 2, 1, 2, 1, 2, 2, 2]), tensor([3, 2, 1, 2, 2, 2, 2, 3]), tensor([3, 3, 2, 2, 1, 2, 2, 2]), tensor([1, 3, 3, 2, 2, 2, 3, 2]), tensor([4, 2, 2, 3, 1, 2, 2, 2]), tensor([2, 2, 2, 2, 1, 4, 2, 1]), tensor([1, 1, 2, 2, 1, 3, 4, 2]), tensor([1, 2, 3, 2, 4, 2, 2, 2]), tensor([3, 2, 1, 3, 2, 2, 4, 2]), tensor([2, 2, 1, 1, 3, 3, 3, 3]), tensor([2, 2, 2, 3, 2, 3, 2, 3]), tensor([2, 2, 2, 0, 2, 3, 3, 4]), tensor([3, 2, 2, 3, 2, 2, 2, 4]), tensor([2, 3, 2, 2, 1, 4, 3, 2]), tensor([2, 2, 2, 3, 2, 2, 1, 2]), tensor([2, 2, 2, 4, 1, 2, 2, 3]), tensor([4, 2, 2, 2, 2, 1, 2, 2]), tensor([2, 3, 1, 2, 2, 2, 1, 2]), tensor([2, 2, 1, 3, 2, 2, 3, 2]), tensor([2, 2, 2, 2, 1, 2, 3, 2]), tensor([4, 1, 2, 2, 1, 2])]\n",
      "Eval loss 1.9598141985014081 accuracy 0.5858585858585859\n",
      "\n",
      "Epoch 9/10\n",
      "----------\n",
      "Train loss 0.0429250403647121 accuracy 0.9885057471264368\n",
      "[tensor([2, 2, 2, 3, 2, 2, 2, 2]), tensor([2, 2, 2, 1, 1, 2, 2, 2]), tensor([2, 2, 3, 2, 2, 1, 4, 3]), tensor([2, 1, 1, 2, 1, 1, 3, 2]), tensor([3, 2, 2, 2, 2, 2, 4, 4]), tensor([2, 4, 4, 2, 1, 2, 2, 2]), tensor([2, 2, 2, 2, 1, 2, 2, 4]), tensor([2, 2, 2, 3, 2, 2, 3, 2]), tensor([1, 2, 2, 3, 2, 1, 2, 3]), tensor([2, 2, 2, 1, 1, 2, 2, 3]), tensor([1, 2, 3, 3, 3, 2, 2, 2]), tensor([3, 2, 2, 2, 2, 2, 2, 3]), tensor([3, 1, 2, 2, 2, 1, 2, 3]), tensor([3, 3, 3, 2, 1, 3, 2, 2]), tensor([2, 1, 2, 3, 3, 1, 3, 1]), tensor([4, 2, 2, 1, 2, 2, 3, 2]), tensor([3, 2, 4, 1, 2, 1, 2, 1]), tensor([2, 3, 2, 1, 2, 1, 2, 1]), tensor([2, 4, 4, 2, 2, 2, 3, 4]), tensor([3, 2, 4, 2, 2, 2, 0, 2]), tensor([1, 4, 2, 2, 3, 2, 3, 3]), tensor([3, 2, 3, 2, 3, 3, 2, 4]), tensor([4, 2, 2, 2, 2, 2, 2, 2]), tensor([3, 2, 2, 2, 1, 1, 3, 2]), tensor([2, 3, 2, 3, 2, 2])]\n",
      "Eval loss 2.0110697412490843 accuracy 0.5909090909090909\n",
      "\n",
      "Epoch 10/10\n",
      "----------\n",
      "Train loss 0.0424995955521697 accuracy 0.9885057471264368\n",
      "[tensor([2, 2, 3, 2, 4, 1, 2, 2]), tensor([3, 3, 3, 1, 1, 2, 2, 2]), tensor([4, 2, 2, 2, 3, 2, 2, 2]), tensor([2, 2, 2, 2, 3, 2, 2, 3]), tensor([3, 3, 2, 3, 3, 2, 2, 3]), tensor([2, 3, 4, 2, 2, 2, 2, 2]), tensor([1, 2, 2, 1, 3, 2, 2, 2]), tensor([2, 4, 2, 2, 2, 2, 3, 2]), tensor([3, 2, 4, 1, 2, 2, 4, 3]), tensor([2, 2, 2, 2, 2, 2, 3, 3]), tensor([2, 4, 2, 3, 2, 3, 2, 1]), tensor([2, 1, 1, 1, 2, 4, 2, 1]), tensor([2, 2, 2, 2, 4, 2, 2, 3]), tensor([3, 2, 2, 2, 2, 1, 1, 4]), tensor([4, 3, 3, 2, 2, 3, 2, 2]), tensor([2, 2, 2, 1, 3, 2, 1, 2]), tensor([2, 2, 1, 2, 3, 1, 2, 3]), tensor([1, 2, 2, 4, 3, 1, 2, 2]), tensor([4, 3, 2, 4, 2, 2, 1, 2]), tensor([2, 3, 2, 2, 1, 2, 2, 3]), tensor([1, 2, 2, 2, 1, 3, 2, 2]), tensor([3, 2, 4, 1, 0, 2, 1, 2]), tensor([1, 3, 1, 3, 2, 1, 2, 2]), tensor([2, 2, 3, 2, 2, 4, 2, 1]), tensor([2, 2, 1, 1, 3, 2])]\n",
      "Eval loss 2.0241361832618714 accuracy 0.5808080808080808\n",
      "\n",
      "Wall time: 52min 33s\n"
     ]
    }
   ],
   "source": [
    "%%time\n",
    "\n",
    "history = defaultdict(list)\n",
    "best_accuracy = 0\n",
    "\n",
    "for e in range(epoch):\n",
    "  print(f'Epoch {e + 1}/{epoch}')\n",
    "  print('-' * 10)\n",
    "\n",
    "  train_acc, train_loss = train_epoch(\n",
    "    model,\n",
    "    train_data_loader,    \n",
    "    loss_fn, \n",
    "    optimizer, \n",
    "    device, \n",
    "    scheduler, \n",
    "    len(df_train)\n",
    "  )\n",
    "  print(f'Train loss {train_loss} accuracy {train_acc}')\n",
    "\n",
    "  eval_acc, eval_loss = eval_epoch(\n",
    "    model,\n",
    "    eval_data_loader,\n",
    "    loss_fn, \n",
    "    device, \n",
    "    len(df_eval)\n",
    "  )\n",
    "  print(f'Eval loss {eval_loss} accuracy {eval_acc}')\n",
    "  print()\n",
    "\n",
    "  history['train_acc'].append(train_acc)\n",
    "  history['train_loss'].append(train_loss)\n",
    "  history['eval_acc'].append(eval_acc)\n",
    "  history['eval_loss'].append(eval_loss)\n",
    "\n",
    "  if eval_acc > best_accuracy:\n",
    "    torch.save(model.state_dict(), 'output/small_lr1e-5/best_model_state.bin')\n",
    "    best_accuracy = eval_acc\n",
    "\n"
   ]
  },
  {
   "cell_type": "code",
   "execution_count": 17,
   "metadata": {},
   "outputs": [],
   "source": [
    "# test\n",
    "test_dir = \"data/preprocessed/small/test.csv\""
   ]
  },
  {
   "cell_type": "code",
   "execution_count": 18,
   "metadata": {},
   "outputs": [
    {
     "data": {
      "text/html": [
       "<div>\n",
       "<style scoped>\n",
       "    .dataframe tbody tr th:only-of-type {\n",
       "        vertical-align: middle;\n",
       "    }\n",
       "\n",
       "    .dataframe tbody tr th {\n",
       "        vertical-align: top;\n",
       "    }\n",
       "\n",
       "    .dataframe thead th {\n",
       "        text-align: right;\n",
       "    }\n",
       "</style>\n",
       "<table border=\"1\" class=\"dataframe\">\n",
       "  <thead>\n",
       "    <tr style=\"text-align: right;\">\n",
       "      <th></th>\n",
       "      <th>id</th>\n",
       "      <th>text</th>\n",
       "    </tr>\n",
       "  </thead>\n",
       "  <tbody>\n",
       "    <tr>\n",
       "      <th>0</th>\n",
       "      <td>1</td>\n",
       "      <td>two places i'd invest all my money if i could ...</td>\n",
       "    </tr>\n",
       "    <tr>\n",
       "      <th>1</th>\n",
       "      <td>2</td>\n",
       "      <td>awesome! google driverless cars will help the ...</td>\n",
       "    </tr>\n",
       "    <tr>\n",
       "      <th>2</th>\n",
       "      <td>3</td>\n",
       "      <td>autonomous vehicles could reduce traffic fatal...</td>\n",
       "    </tr>\n",
       "    <tr>\n",
       "      <th>3</th>\n",
       "      <td>4</td>\n",
       "      <td>really good presentation from jan becker on bo...</td>\n",
       "    </tr>\n",
       "    <tr>\n",
       "      <th>4</th>\n",
       "      <td>5</td>\n",
       "      <td>ford just revealed it's automated ford fusion ...</td>\n",
       "    </tr>\n",
       "  </tbody>\n",
       "</table>\n",
       "</div>"
      ],
      "text/plain": [
       "   id                                               text\n",
       "0   1  two places i'd invest all my money if i could ...\n",
       "1   2  awesome! google driverless cars will help the ...\n",
       "2   3  autonomous vehicles could reduce traffic fatal...\n",
       "3   4  really good presentation from jan becker on bo...\n",
       "4   5  ford just revealed it's automated ford fusion ..."
      ]
     },
     "execution_count": 18,
     "metadata": {},
     "output_type": "execute_result"
    }
   ],
   "source": [
    "df_test = pd.read_csv(test_dir)\n",
    "df_test.head()"
   ]
  },
  {
   "cell_type": "code",
   "execution_count": 19,
   "metadata": {},
   "outputs": [],
   "source": [
    "class TwitterDataset_test(Dataset):\n",
    "    def __init__(self, texts, tokenizer, max_len):\n",
    "        self.texts = texts\n",
    "        self.tokenizer = tokenizer\n",
    "        self.max_len = max_len\n",
    "    \n",
    "    def __len__(self):\n",
    "        return len(self.texts)\n",
    "    \n",
    "    def __getitem__(self, item):\n",
    "        text = str(self.texts[item])\n",
    "        encoding = self.tokenizer.encode_plus(\n",
    "            text, \n",
    "            add_special_tokens=True, \n",
    "            max_length=self.max_len, \n",
    "            return_token_type_ids=False, \n",
    "            pad_to_max_length=True, \n",
    "            return_attention_mask=True, \n",
    "            return_tensors='pt',\n",
    "        )\n",
    "        return {\n",
    "            'text': text, \n",
    "            'input_ids': encoding['input_ids'].flatten(),\n",
    "            'attention_mask': encoding['attention_mask'].flatten(),\n",
    "        }"
   ]
  },
  {
   "cell_type": "code",
   "execution_count": 20,
   "metadata": {},
   "outputs": [],
   "source": [
    "def create_data_loader_test(df, tokenizer, max_len, batch_size):\n",
    "    ds = TwitterDataset_test(\n",
    "        texts=df.text.to_numpy(),\n",
    "        tokenizer=tokenizer,\n",
    "        max_len=max_len,\n",
    "    )\n",
    "\n",
    "    return DataLoader(\n",
    "        ds, \n",
    "        batch_size=batch_size,\n",
    "        num_workers=0,\n",
    "        shuffle=False,\n",
    "    )"
   ]
  },
  {
   "cell_type": "code",
   "execution_count": 21,
   "metadata": {},
   "outputs": [],
   "source": [
    "test_data_loader = create_data_loader_test(df_test, tokenizer, max_length, batch_size)"
   ]
  },
  {
   "cell_type": "code",
   "execution_count": 22,
   "metadata": {},
   "outputs": [
    {
     "name": "stderr",
     "output_type": "stream",
     "text": [
      "c:\\Users\\86139\\Anaconda3\\envs\\pytorch\\lib\\site-packages\\transformers\\tokenization_utils_base.py:2074: FutureWarning: The `pad_to_max_length` argument is deprecated and will be removed in a future version, use `padding=True` or `padding='longest'` to pad to the longest sequence in the batch, or use `padding='max_length'` to pad to a max length. In this case, you can give a specific length with `max_length` (e.g. `max_length=45`) or leave max_length to None to pad to the maximal input size of the model (e.g. 512 for Bert).\n",
      "  FutureWarning,\n"
     ]
    },
    {
     "data": {
      "text/plain": [
       "dict_keys(['text', 'input_ids', 'attention_mask'])"
      ]
     },
     "execution_count": 22,
     "metadata": {},
     "output_type": "execute_result"
    }
   ],
   "source": [
    "data = next(iter(test_data_loader))\n",
    "data.keys()"
   ]
  },
  {
   "cell_type": "code",
   "execution_count": 23,
   "metadata": {},
   "outputs": [],
   "source": [
    "def get_predictions(model, data_loader):\n",
    "    model = model.eval()\n",
    "  \n",
    "    predictions = []\n",
    "\n",
    "    with torch.no_grad():\n",
    "        for d in data_loader:\n",
    "            input_ids = d[\"input_ids\"].to(device)\n",
    "            attention_mask = d[\"attention_mask\"].to(device)\n",
    "\n",
    "            outputs = model(\n",
    "                input_ids=input_ids,\n",
    "                attention_mask=attention_mask\n",
    "            )\n",
    "            _, preds = torch.max(outputs, dim=1)\n",
    "            predictions.extend(preds)\n",
    "\n",
    "    predictions = torch.stack(predictions).cpu()\n",
    "    return predictions"
   ]
  },
  {
   "cell_type": "code",
   "execution_count": 24,
   "metadata": {},
   "outputs": [
    {
     "data": {
      "text/plain": [
       "tensor([3, 4, 3, 3, 4, 3, 4, 3, 3, 2, 3, 3, 3, 3, 3, 3, 2, 3, 4, 3, 3, 3, 3, 3,\n",
       "        3, 3, 2, 3, 4, 4, 3, 3, 4, 3, 3, 3, 2, 2, 2, 3, 4, 4, 4, 3, 3, 3, 2, 2,\n",
       "        4, 3, 4, 4, 3, 4, 3, 3, 3, 3, 1, 2, 3, 3, 3, 3, 3, 2, 3, 3, 3, 3, 2, 3,\n",
       "        3, 3, 2, 2, 3, 3, 3, 3, 3, 3, 4, 2, 2, 3, 2, 1, 2, 3, 3, 3, 3, 4, 3, 4,\n",
       "        3, 1, 3, 3, 3, 3, 3, 3, 3, 3, 2, 3, 3, 1, 4, 3, 3, 3, 3, 3, 3, 3, 4, 3,\n",
       "        2, 4, 3, 1, 3, 3, 3, 3, 3, 4, 3, 3, 4, 3, 2, 3, 3, 3, 2, 2, 3, 2, 3, 4,\n",
       "        4, 3, 1, 2, 3, 2, 1, 4, 4, 3, 2, 2, 2, 1, 1, 1, 2, 3, 3, 2, 3, 4, 3, 2,\n",
       "        2, 2, 2, 3, 3, 1, 2, 3, 2, 2, 1, 3, 3, 2, 3, 2, 2, 3, 4, 2, 3, 3, 3, 2,\n",
       "        2, 2, 3, 2, 4, 3, 4, 1, 3, 3, 3, 4, 2, 3, 2, 2, 3, 2, 1, 2, 4, 3, 3, 3,\n",
       "        2, 3, 2, 3, 3, 3, 3, 4, 4, 3, 2, 2, 2, 2, 2, 2, 2, 2, 2, 2, 2, 2, 2, 2,\n",
       "        2, 2, 2, 2, 2, 2, 2, 2, 2, 2, 2, 2, 2, 4, 2, 2, 2, 2, 3, 2, 2, 2, 2, 2,\n",
       "        2, 2, 2, 2, 2, 2, 1, 2, 2, 2, 2, 2, 3, 2, 2, 2, 3, 2, 2, 3, 2, 2, 2, 2,\n",
       "        2, 2, 2, 2, 2, 2, 1, 2, 1, 2, 2, 2, 2, 2, 2, 2, 2, 2, 2, 2, 2, 3, 2, 2,\n",
       "        2, 2, 2, 3, 2, 2, 2, 2, 1, 2, 2, 2, 2, 2, 3, 2, 3, 2, 3, 3, 2, 2, 2, 2,\n",
       "        1, 3, 2, 2, 2, 2, 2, 2, 2, 2, 3, 2, 2, 3, 3, 2, 2, 1, 2, 2, 3, 2, 2, 2,\n",
       "        2, 2, 2, 1, 3, 2, 2, 2, 2, 3, 2, 3, 2, 2, 2, 2, 2, 2, 2, 2, 2, 3, 2, 2,\n",
       "        2, 2, 2, 2, 2, 2, 3, 2, 1, 2, 2, 2, 3, 2, 2, 2, 2, 3, 3, 2, 2, 2, 2, 2,\n",
       "        2, 2, 2, 2, 2, 2, 2, 2, 2, 2, 2, 2, 2, 2, 2, 2, 2, 3, 2, 2, 2, 2, 2, 2,\n",
       "        2, 2, 2, 3, 2, 2, 2, 2, 2, 2, 2, 2, 3, 3, 2, 2, 2, 2, 2, 2, 2, 2, 2, 2,\n",
       "        2, 2, 2, 2, 2, 3, 2, 3, 2, 2, 2, 2, 2, 3, 2, 2, 2, 2, 1, 3, 3, 2, 2, 2,\n",
       "        2, 2, 2, 2, 1, 3, 2, 2, 2, 2, 2, 2, 2, 2, 2, 2, 2, 3, 2, 2, 2, 2, 2, 2,\n",
       "        3, 2, 2, 3, 2, 3, 2, 2, 2, 1, 2, 2, 2, 3, 2, 2, 3, 2, 2, 2, 0, 2, 2, 2,\n",
       "        3, 3, 2, 2, 3, 3, 2, 3, 2, 2, 3, 1, 2, 1, 2, 3, 2, 3, 2, 2, 2, 2, 2, 2,\n",
       "        2, 3, 2, 2, 2, 2, 3, 2, 2, 3, 3, 2, 2, 2, 2, 2, 3, 2, 2, 1, 3, 2, 2, 1,\n",
       "        2, 3, 1, 3, 4, 2, 3, 3, 3, 3, 3, 2, 2, 2, 2, 2, 2, 3, 2, 2, 2, 2, 2, 1,\n",
       "        3, 3, 2, 2, 2, 3, 2, 2, 2, 2, 2, 2, 3, 2, 2, 2, 2, 2, 2, 3, 2, 2, 2, 2,\n",
       "        3, 2, 2, 2, 3, 2, 2, 2, 2, 2, 2, 2, 2, 3, 4, 2, 2, 2, 2, 2, 2, 2, 2, 2,\n",
       "        4, 2, 2, 3, 2, 2, 2, 1, 2, 2, 2, 3, 2, 2, 2, 3, 2, 2, 2, 2, 2, 2, 2, 2,\n",
       "        2, 2, 2, 2, 2, 2, 2, 2, 2, 2, 2, 2, 2, 3, 2, 2, 2, 2, 2, 2, 2, 2, 2, 2,\n",
       "        2, 2, 1, 2, 1, 2, 2, 3, 3, 2, 2, 2, 2, 3, 2, 2, 2, 3, 1, 2, 2, 2, 2, 2,\n",
       "        2, 2, 2, 2, 2, 1, 2, 3, 3, 2, 2, 2, 2, 3, 2, 2, 3, 2, 2, 2, 2, 3, 2, 2,\n",
       "        2, 2, 1, 2, 2, 2, 1, 3, 3, 2, 3, 3, 2, 2, 3, 3, 2, 2, 2, 2, 1, 2, 2, 2,\n",
       "        2, 2, 2, 2, 2, 2, 2, 2, 2, 2, 2, 2, 2, 2, 1, 2, 2, 2, 2, 2, 2, 1, 1, 2,\n",
       "        1, 4, 2, 2, 2, 2, 2, 2, 2, 3, 3, 1, 2, 2, 2, 2, 2, 2, 1, 2, 2, 2, 2, 2,\n",
       "        1, 3, 2, 2, 2, 2, 2, 2, 2, 2, 2, 2, 2, 1, 2, 2, 2, 1, 2, 2, 2, 2, 2, 2,\n",
       "        2, 2, 2, 2, 1, 2, 2, 3, 2, 2, 2, 2, 2, 2, 3, 2, 3, 2, 2, 2, 3, 3, 2, 1,\n",
       "        1, 2, 2, 2, 2, 1, 3, 1, 2, 2, 2, 2, 2, 2, 2, 1, 4, 1, 3, 3, 1, 2, 3, 2,\n",
       "        3, 2, 1, 3, 1, 4, 2, 1, 1, 1, 4, 2, 2, 2, 3, 1, 1, 1, 1, 1, 3, 1, 1, 2,\n",
       "        1, 1, 3, 3, 2, 1, 3, 2, 1, 2, 1, 1, 3, 3, 1, 1, 2, 2, 2, 2, 2, 3, 2, 4,\n",
       "        1, 1, 1, 2, 1, 1, 2, 1, 3, 4, 1, 1, 2, 2, 1, 3, 1, 2, 2, 3, 2, 1, 2, 2,\n",
       "        2, 1, 3, 1, 1, 0, 1, 1, 1, 3, 2, 4, 1, 1, 3, 4, 4, 1, 2])"
      ]
     },
     "execution_count": 24,
     "metadata": {},
     "output_type": "execute_result"
    }
   ],
   "source": [
    "test_preds = get_predictions(model, test_data_loader)\n",
    "test_preds"
   ]
  },
  {
   "cell_type": "code",
   "execution_count": 25,
   "metadata": {},
   "outputs": [],
   "source": [
    "array = np.array(test_preds)\n",
    "df_preds = pd.DataFrame(array)\n",
    "\n",
    "import csv\n",
    "with open(\"output/small_lr1e-5/submit.csv\", 'w', newline='') as f:\n",
    "    writer = csv.writer(f)\n",
    "    writer.writerow(['id','sentiment'])\n",
    "    index = 1\n",
    "    for d in df_preds[0]:\n",
    "        writer.writerow((index,d+1))\n",
    "        index += 1"
   ]
  }
 ],
 "metadata": {
  "interpreter": {
   "hash": "e80f2c8833cedb7126ef3cddc2d95ca2b11987ff57ef56b65aa4ced506198002"
  },
  "kernelspec": {
   "display_name": "Python 3.7.0 ('pytorch')",
   "language": "python",
   "name": "python3"
  },
  "language_info": {
   "codemirror_mode": {
    "name": "ipython",
    "version": 3
   },
   "file_extension": ".py",
   "mimetype": "text/x-python",
   "name": "python",
   "nbconvert_exporter": "python",
   "pygments_lexer": "ipython3",
   "version": "3.7.0"
  },
  "orig_nbformat": 4
 },
 "nbformat": 4,
 "nbformat_minor": 2
}
